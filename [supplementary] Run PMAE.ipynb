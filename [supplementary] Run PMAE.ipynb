{
 "cells": [
  {
   "cell_type": "code",
   "execution_count": 26,
   "id": "9a8b7575-0c4f-496e-8a52-723a6b6f968c",
   "metadata": {
    "execution": {
     "iopub.execute_input": "2024-12-23T08:15:17.584001Z",
     "iopub.status.busy": "2024-12-23T08:15:17.583207Z",
     "iopub.status.idle": "2024-12-23T08:15:17.593813Z",
     "shell.execute_reply": "2024-12-23T08:15:17.591832Z",
     "shell.execute_reply.started": "2024-12-23T08:15:17.583925Z"
    }
   },
   "outputs": [],
   "source": [
    "from utils import *\n",
    "from configs import *\n",
    "from copy import deepcopy\n",
    "from evaluate import *\n",
    "\n",
    "from fit_pMAE import *\n",
    "from fit_ReMasker import *\n",
    "\n",
    "import random"
   ]
  },
  {
   "cell_type": "code",
   "execution_count": 27,
   "id": "82202faa-fef7-4b35-a1d3-46729af222c1",
   "metadata": {
    "execution": {
     "iopub.execute_input": "2024-12-23T08:15:18.401864Z",
     "iopub.status.busy": "2024-12-23T08:15:18.400057Z",
     "iopub.status.idle": "2024-12-23T08:15:18.409857Z",
     "shell.execute_reply": "2024-12-23T08:15:18.407895Z",
     "shell.execute_reply.started": "2024-12-23T08:15:18.401787Z"
    }
   },
   "outputs": [],
   "source": [
    "set_all_seeds(42)"
   ]
  },
  {
   "cell_type": "code",
   "execution_count": 28,
   "id": "0acf73c5-6b07-4ec3-9fda-de5fd241023a",
   "metadata": {
    "execution": {
     "iopub.execute_input": "2024-12-23T08:15:18.858499Z",
     "iopub.status.busy": "2024-12-23T08:15:18.857705Z",
     "iopub.status.idle": "2024-12-23T08:15:18.869858Z",
     "shell.execute_reply": "2024-12-23T08:15:18.868184Z",
     "shell.execute_reply.started": "2024-12-23T08:15:18.858425Z"
    }
   },
   "outputs": [],
   "source": [
    "args = get_args_parser().parse_args([])"
   ]
  },
  {
   "cell_type": "markdown",
   "id": "71054166-9c8c-4efb-840b-eef39e1a8d3e",
   "metadata": {},
   "source": [
    "#### data"
   ]
  },
  {
   "cell_type": "code",
   "execution_count": 34,
   "id": "5c404fc7-1084-4f2e-84ae-c29db949d3a8",
   "metadata": {
    "execution": {
     "iopub.execute_input": "2024-12-23T08:16:24.852121Z",
     "iopub.status.busy": "2024-12-23T08:16:24.850960Z",
     "iopub.status.idle": "2024-12-23T08:16:24.882906Z",
     "shell.execute_reply": "2024-12-23T08:16:24.881133Z",
     "shell.execute_reply.started": "2024-12-23T08:16:24.851979Z"
    }
   },
   "outputs": [
    {
     "name": "stdout",
     "output_type": "stream",
     "text": [
      "dict_keys(['d', 'd_numerical', 'quasi', 'full'])\n",
      "dict_keys([9999, 0, 1, 2, 3, 4, 5, 6, 7, 8, 9])\n",
      "dict_keys([9999, 0, 1, 2, 3, 4, 5, 6, 7, 8, 9])\n"
     ]
    }
   ],
   "source": [
    "# CONFIGS\n",
    "basedir = './'\n",
    "dset = 'diabetes'\n",
    "# key 1: pattern (full / quasi)\n",
    "missing_pattern = 'full' # quasi\n",
    "# key 2: seed (0~9)\n",
    "seed = 2\n",
    "\n",
    "print( res_new.keys() )\n",
    "print( res_new['quasi'].keys() )\n",
    "print( res_new['full'].keys() )\n",
    "\n",
    "# LOAD\n",
    "proc_new = torch.load(f'{basedir}/amputation/{dset}/new_proc.pkl')\n",
    "\n",
    "X_num = proc_new['X_num']\n",
    "X_cat = proc_new['X_cat']\n",
    "d_numerical = proc_new['d_numerical']\n",
    "\n",
    "# full, quasi\n",
    "res_new = torch.load(f'{basedir}/amputation/{dset}/amputed.pkl')\n",
    "res_new_ = res_new[missing_pattern][seed]\n",
    "\n",
    "X_init_new = res_new_['X_init'].float()\n",
    "mask_new = res_new_['mask'] == 1\n",
    "\n",
    "X_incomp_new = res_new_['X_incomp'].float()\n",
    "\n",
    "n, d = X_init_new.shape\n",
    "d_numerical = proc_new['d_numerical']\n",
    "miss_cols_new = [i for i in range(d) if i not in res_new_['full_cols']]"
   ]
  },
  {
   "cell_type": "code",
   "execution_count": 14,
   "id": "c994c5e8-cf1e-4bf4-a4b3-0a6420f5ff45",
   "metadata": {
    "execution": {
     "iopub.execute_input": "2024-12-23T08:00:17.678162Z",
     "iopub.status.busy": "2024-12-23T08:00:17.677359Z",
     "iopub.status.idle": "2024-12-23T08:00:17.689433Z",
     "shell.execute_reply": "2024-12-23T08:00:17.687402Z",
     "shell.execute_reply.started": "2024-12-23T08:00:17.678089Z"
    }
   },
   "outputs": [],
   "source": [
    "if (n < 1000):\n",
    "    batch_size = 128\n",
    "elif (n < 2500):\n",
    "    batch_size = 256\n",
    "elif (n <5000):\n",
    "    batch_size = 512\n",
    "elif (n <10000):\n",
    "    batch_size = 1024\n",
    "elif (n <20000):\n",
    "    batch_size = 2048\n",
    "else:\n",
    "    batch_size = 4096"
   ]
  },
  {
   "cell_type": "markdown",
   "id": "3c6735ce-90c1-4335-8b32-3feb156993f4",
   "metadata": {},
   "source": [
    "#### model"
   ]
  },
  {
   "cell_type": "code",
   "execution_count": 15,
   "id": "98c4bcb8-e3a9-4fcc-94e1-d3fc51fea6eb",
   "metadata": {
    "execution": {
     "iopub.execute_input": "2024-12-23T08:00:19.784622Z",
     "iopub.status.busy": "2024-12-23T08:00:19.783799Z",
     "iopub.status.idle": "2024-12-23T08:00:19.793948Z",
     "shell.execute_reply": "2024-12-23T08:00:19.791919Z",
     "shell.execute_reply.started": "2024-12-23T08:00:19.784549Z"
    }
   },
   "outputs": [
    {
     "name": "stdout",
     "output_type": "stream",
     "text": [
      "Namespace(dataset='california', batch_size=64, max_epochs=600, accum_iter=1, mask_ratio=0.5, embed_dim=32, depth=6, decoder_depth=4, num_heads=4, mlp_ratio=4.0, encode_func='linear', norm_field_loss=False, weight_decay=0.05, lr=None, blr=0.001, min_lr=1e-05, warmup_epochs=40, path='/data/', exp_name='test', device='cuda', seed=666, overwrite=True, pin_mem=True)\n"
     ]
    }
   ],
   "source": [
    "print(args)"
   ]
  },
  {
   "cell_type": "code",
   "execution_count": 16,
   "id": "d0c4659c-e063-4ce0-b177-0e994af20184",
   "metadata": {
    "execution": {
     "iopub.execute_input": "2024-12-23T08:00:20.537053Z",
     "iopub.status.busy": "2024-12-23T08:00:20.535985Z",
     "iopub.status.idle": "2024-12-23T08:00:20.551567Z",
     "shell.execute_reply": "2024-12-23T08:00:20.549248Z",
     "shell.execute_reply.started": "2024-12-23T08:00:20.536977Z"
    }
   },
   "outputs": [],
   "source": [
    "model_pmae = ProportionalMasker(args)\n",
    "model_pmae.batch_size = batch_size\n",
    "model_pmae.device = 'cuda:0'\n",
    "model_pmae.max_epochs = 300\n",
    "\n",
    "\n",
    "model_remasker = ReMasker(args)\n",
    "model_remasker.batch_size = batch_size\n",
    "model_remasker.device = 'cuda:0'\n",
    "model_remasker.max_epochs = 300"
   ]
  },
  {
   "cell_type": "code",
   "execution_count": 17,
   "id": "893383a7-ee32-4c4c-82e3-d3cf8b99c369",
   "metadata": {
    "execution": {
     "iopub.execute_input": "2024-12-23T08:00:21.497971Z",
     "iopub.status.busy": "2024-12-23T08:00:21.497180Z",
     "iopub.status.idle": "2024-12-23T08:01:42.546591Z",
     "shell.execute_reply": "2024-12-23T08:01:42.544775Z",
     "shell.execute_reply.started": "2024-12-23T08:00:21.497900Z"
    }
   },
   "outputs": [
    {
     "name": "stdout",
     "output_type": "stream",
     "text": [
      "0.5\n",
      "missing col index: [ 0  1  3  4  5  6  7  8  9 10]\n",
      "p_obs mean:  tensor([0.4592, 0.4592, 1.0000, 0.5841, 0.9134, 0.8491, 0.9379, 0.5704, 0.1783,\n",
      "        0.8087, 0.2614], device='cuda:0')\n",
      "Loss at epoch 0: 0.5248087765593872\n",
      "1 epoch took: 0.3287644386291504 sec\n",
      "Loss at epoch 20: 0.22578491996633582\n",
      "Loss at epoch 40: 0.13299243206027156\n",
      "Loss at epoch 60: 0.10124142801581933\n",
      "Loss at epoch 80: 0.09133690039986625\n",
      "Loss at epoch 100: 0.08296535471975232\n",
      "Loss at epoch 120: 0.08094799150799636\n",
      "Loss at epoch 140: 0.07741889546265378\n",
      "Loss at epoch 160: 0.07657723842486565\n",
      "Loss at epoch 180: 0.07482132344895472\n",
      "Loss at epoch 200: 0.07165924507498256\n",
      "Loss at epoch 220: 0.072050422307533\n",
      "Loss at epoch 240: 0.07409956212645838\n",
      "Loss at epoch 260: 0.07273634169450137\n",
      "Loss at epoch 280: 0.07100606895919157\n"
     ]
    }
   ],
   "source": [
    "# pMAE\n",
    "\n",
    "model_pmae.old_loss = False\n",
    "model_pmae.block_mlp = 0 # Mixer -0 / Transformer - None\n",
    "model_pmae.new_imp = True\n",
    "\n",
    "X_imputed1 = model_pmae.fit(pd.DataFrame(X_incomp_new))\n",
    "                                                                                         "
   ]
  },
  {
   "cell_type": "code",
   "execution_count": 18,
   "id": "ab370118-a1e9-4298-9766-8ac7f17a4681",
   "metadata": {
    "execution": {
     "iopub.execute_input": "2024-12-23T08:01:42.548165Z",
     "iopub.status.busy": "2024-12-23T08:01:42.547926Z",
     "iopub.status.idle": "2024-12-23T08:03:05.891877Z",
     "shell.execute_reply": "2024-12-23T08:03:05.890858Z",
     "shell.execute_reply.started": "2024-12-23T08:01:42.548144Z"
    }
   },
   "outputs": [
    {
     "name": "stdout",
     "output_type": "stream",
     "text": [
      "0.5\n",
      "missing col index: [ 0  1  3  4  5  6  7  8  9 10]\n",
      "p_obs mean:  tensor([0.4592, 0.4592, 1.0000, 0.5841, 0.9134, 0.8491, 0.9379, 0.5704, 0.1783,\n",
      "        0.8087, 0.2614], device='cuda:0')\n",
      "Loss at epoch 0: 0.5553882989509623\n",
      "1 epoch took: 0.24612069129943848 sec\n",
      "Loss at epoch 20: 0.16816428542999248\n",
      "Loss at epoch 40: 0.158639907305649\n",
      "Loss at epoch 60: 0.13560395440617695\n",
      "Loss at epoch 80: 0.12286396092922502\n",
      "Loss at epoch 100: 0.11444827518126037\n",
      "Loss at epoch 120: 0.10914467717705668\n",
      "Loss at epoch 140: 0.11234698259330217\n",
      "Loss at epoch 160: 0.11071328291080863\n",
      "Loss at epoch 180: 0.1070439837241196\n",
      "Loss at epoch 200: 0.10533944344890986\n",
      "Loss at epoch 220: 0.10484647035385843\n",
      "Loss at epoch 240: 0.10446862002525456\n",
      "Loss at epoch 260: 0.10317122700907687\n",
      "Loss at epoch 280: 0.10076127233182681\n"
     ]
    }
   ],
   "source": [
    "# ReMasker\n",
    "\n",
    "model_remasker.new_imp = False\n",
    "model_remasker.device = 'cuda:0'\n",
    "X_imputed2 = model_remasker.fit(pd.DataFrame(X_incomp_new))\n",
    "                                                                                         "
   ]
  },
  {
   "cell_type": "markdown",
   "id": "d18812ef-6e9e-4aef-9060-d6614701dbc7",
   "metadata": {},
   "source": [
    "#### evaluation\n",
    "- d: number of columns (total)\n",
    "- d_numerical: number of columns (numerical only)\n",
    "- X_init_new: ground truth\n",
    "- X_imputed: imputed value\n",
    "- mask_new: missing mask (1: miss)\n",
    "- miss_cols: target columns that are missing\n",
    "- cat_exists: whether there are categorical variables"
   ]
  },
  {
   "cell_type": "code",
   "execution_count": 21,
   "id": "2bee0cb2-1053-48bb-a1b6-7095b82b409f",
   "metadata": {
    "execution": {
     "iopub.execute_input": "2024-12-23T08:04:49.174602Z",
     "iopub.status.busy": "2024-12-23T08:04:49.173336Z",
     "iopub.status.idle": "2024-12-23T08:04:49.204353Z",
     "shell.execute_reply": "2024-12-23T08:04:49.203157Z",
     "shell.execute_reply.started": "2024-12-23T08:04:49.174528Z"
    },
    "scrolled": true
   },
   "outputs": [
    {
     "name": "stdout",
     "output_type": "stream",
     "text": [
      "{'imp_acc': 0.2079109251499176, 'R2(numerical)': 0.2079109251499176, 'Acc(categorical)': nan, 'WD': 0.1298959109789264, 'RMSE': 0.19498909817842003, 'RMSE(num)': 0.19498909817842003, 'RMSE(cat)': nan}\n"
     ]
    }
   ],
   "source": [
    "# pMAE\n",
    "\n",
    "X_imputed = X_imputed1\n",
    "\n",
    "score_dict = evaluator(X_init_new, X_imputed, mask_new, d, d_numerical, \n",
    "                       miss_cols = miss_cols_new, \n",
    "                       cat_exists = (d - d_numerical > 0) )\n",
    "\n",
    "print(score_dict)"
   ]
  },
  {
   "cell_type": "code",
   "execution_count": 22,
   "id": "f7fca516-070a-49ec-888a-70138b8a0934",
   "metadata": {
    "execution": {
     "iopub.execute_input": "2024-12-23T08:04:50.422210Z",
     "iopub.status.busy": "2024-12-23T08:04:50.420289Z",
     "iopub.status.idle": "2024-12-23T08:04:50.455004Z",
     "shell.execute_reply": "2024-12-23T08:04:50.453788Z",
     "shell.execute_reply.started": "2024-12-23T08:04:50.422091Z"
    }
   },
   "outputs": [
    {
     "name": "stdout",
     "output_type": "stream",
     "text": [
      "{'imp_acc': 0.04818350821733475, 'R2(numerical)': 0.04818350821733475, 'Acc(categorical)': nan, 'WD': 0.12344947032736571, 'RMSE': 0.18287797114933785, 'RMSE(num)': 0.18287797114933785, 'RMSE(cat)': nan}\n"
     ]
    }
   ],
   "source": [
    "# ReMasker\n",
    "\n",
    "X_imputed = X_imputed2\n",
    "\n",
    "score_dict = evaluator(X_init_new, X_imputed, mask_new, d, d_numerical, \n",
    "                       miss_cols = miss_cols_new, \n",
    "                       cat_exists = (d - d_numerical > 0) )\n",
    "print(score_dict)"
   ]
  },
  {
   "cell_type": "code",
   "execution_count": null,
   "id": "28abedec-5dd0-4768-ae9d-604eacf84bd4",
   "metadata": {},
   "outputs": [],
   "source": []
  },
  {
   "cell_type": "code",
   "execution_count": null,
   "id": "d507d524-6ab6-45e1-ad62-4a62649a6d3b",
   "metadata": {},
   "outputs": [],
   "source": []
  },
  {
   "cell_type": "code",
   "execution_count": null,
   "id": "59e4b4a1-8d86-4bb3-9661-8e0caa012c6d",
   "metadata": {},
   "outputs": [],
   "source": []
  },
  {
   "cell_type": "code",
   "execution_count": null,
   "id": "c00f1dcf-1e5a-4916-899b-ebdd4e3938bb",
   "metadata": {},
   "outputs": [],
   "source": []
  },
  {
   "cell_type": "code",
   "execution_count": null,
   "id": "6b4b34db-b6ca-44db-a509-59b398f3505f",
   "metadata": {},
   "outputs": [],
   "source": []
  },
  {
   "cell_type": "code",
   "execution_count": null,
   "id": "cd2aa6bd-e2c0-4f75-badb-1d657f6c9c5b",
   "metadata": {},
   "outputs": [],
   "source": []
  },
  {
   "cell_type": "code",
   "execution_count": null,
   "id": "0b5157ac-2ed8-4bd4-8c90-a7b5ec69a4b8",
   "metadata": {},
   "outputs": [],
   "source": []
  },
  {
   "cell_type": "code",
   "execution_count": null,
   "id": "17477b7b-08c6-4e3d-a63e-fe9a75732a7b",
   "metadata": {},
   "outputs": [],
   "source": []
  },
  {
   "cell_type": "code",
   "execution_count": null,
   "id": "2685aaf0-6e5f-4417-b6e2-2203611099dc",
   "metadata": {},
   "outputs": [],
   "source": []
  },
  {
   "cell_type": "code",
   "execution_count": null,
   "id": "6ffa9633-2a8d-4e44-bc71-a00718b75af2",
   "metadata": {},
   "outputs": [],
   "source": []
  }
 ],
 "metadata": {
  "kernelspec": {
   "display_name": "Python 3 (ipykernel)",
   "language": "python",
   "name": "python3"
  },
  "language_info": {
   "codemirror_mode": {
    "name": "ipython",
    "version": 3
   },
   "file_extension": ".py",
   "mimetype": "text/x-python",
   "name": "python",
   "nbconvert_exporter": "python",
   "pygments_lexer": "ipython3",
   "version": "3.9.21"
  }
 },
 "nbformat": 4,
 "nbformat_minor": 5
}
